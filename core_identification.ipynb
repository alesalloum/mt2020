{
 "cells": [
  {
   "cell_type": "markdown",
   "metadata": {},
   "source": [
    "### STUDYING THE CORE IDENTIFICATION PROCESS"
   ]
  },
  {
   "cell_type": "code",
   "execution_count": 5,
   "metadata": {},
   "outputs": [],
   "source": [
    "import networkx\n",
    "import pickle"
   ]
  },
  {
   "cell_type": "code",
   "execution_count": 6,
   "metadata": {},
   "outputs": [],
   "source": [
    "def easier_indexing(Gs):\n",
    "    \"\"\"\n",
    "        Quick tool for easier indexing \n",
    "    \"\"\"\n",
    "    keys = [Gs[i][1][:-5] for i in range(len(Gs))]\n",
    "    topic_dict = dict(zip(keys, list(range(len(keys)))))\n",
    "    return topic_dict"
   ]
  },
  {
   "cell_type": "code",
   "execution_count": 7,
   "metadata": {},
   "outputs": [],
   "source": [
    "GL = pickle.load(open(\"data/graphlistnew.pickle\", \"rb\" ))\n",
    "topic_dict = easier_indexing(GL)"
   ]
  },
  {
   "cell_type": "code",
   "execution_count": null,
   "metadata": {},
   "outputs": [],
   "source": [
    "random_network = nx.erdos_renyi_graph(n=1, p=1)\n",
    "polarized_network = 1\n",
    "unpolarized_network = 1"
   ]
  }
 ],
 "metadata": {
  "kernelspec": {
   "display_name": "Python 3/anaconda",
   "language": "python",
   "name": "python3"
  },
  "language_info": {
   "codemirror_mode": {
    "name": "ipython",
    "version": 3
   },
   "file_extension": ".py",
   "mimetype": "text/x-python",
   "name": "python",
   "nbconvert_exporter": "python",
   "pygments_lexer": "ipython3",
   "version": "3.7.7"
  }
 },
 "nbformat": 4,
 "nbformat_minor": 4
}
