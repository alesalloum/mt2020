{
 "cells": [
  {
   "cell_type": "code",
   "execution_count": 1,
   "metadata": {},
   "outputs": [],
   "source": [
    "import networkx as nx\n",
    "import matplotlib.pyplot as plt\n",
    "import pickle\n",
    "import numpy as np\n",
    "import random\n",
    "from scipy.stats import wasserstein_distance\n",
    "from matplotlib.backends.backend_pdf import PdfPages\n",
    "import json"
   ]
  },
  {
   "cell_type": "markdown",
   "metadata": {},
   "source": [
    "### I. Load the data"
   ]
  },
  {
   "cell_type": "code",
   "execution_count": 2,
   "metadata": {},
   "outputs": [],
   "source": [
    "PIPELINE_SWITCH = 1"
   ]
  },
  {
   "cell_type": "code",
   "execution_count": 3,
   "metadata": {},
   "outputs": [],
   "source": [
    "def easier_indexing(Gs):\n",
    "    \"\"\"\n",
    "        Quick tool for easier indexing \n",
    "    \"\"\"\n",
    "    keys = [Gs[i][1][:-5] for i in range(len(Gs))]\n",
    "    topic_dict = dict(zip(keys, list(range(len(keys)))))\n",
    "    return topic_dict\n",
    "\n",
    "GL = pickle.load(open(\"data/graphlistnew.pickle\", \"rb\" ))\n",
    "topic_dict = easier_indexing(GL)"
   ]
  },
  {
   "cell_type": "code",
   "execution_count": 4,
   "metadata": {},
   "outputs": [],
   "source": [
    "if not PIPELINE_SWITCH:\n",
    "    \n",
    "    polarized = \"jotainrajaa\" #\"vihreät\"\n",
    "    unpolarized = \"ammatillinenkoulutus\" #\"mielenterveys\"\n",
    "\n",
    "    polarized_network = GL[topic_dict[polarized]][0][0][0]\n",
    "    unpolarized_network = GL[topic_dict[unpolarized]][0][0][0]"
   ]
  },
  {
   "cell_type": "markdown",
   "metadata": {},
   "source": [
    "## CORE POLARIZATION"
   ]
  },
  {
   "cell_type": "code",
   "execution_count": 6,
   "metadata": {},
   "outputs": [],
   "source": [
    "def find_main_core(G, k=None):\n",
    "    \n",
    "    core_subgraph = nx.k_core(G, k=None, core_number=None)\n",
    "    \n",
    "    return core_subgraph"
   ]
  },
  {
   "cell_type": "code",
   "execution_count": 7,
   "metadata": {},
   "outputs": [],
   "source": [
    "def get_colormap(G, core_subgraph, colors):\n",
    "    \n",
    "    color_map = []\n",
    "    for node in G:\n",
    "        if node in core_subgraph.nodes():\n",
    "            color_map.append(color[0])\n",
    "        else: \n",
    "            color_map.append(color[1]) \n",
    "    \n",
    "    return color_map"
   ]
  },
  {
   "cell_type": "code",
   "execution_count": 8,
   "metadata": {},
   "outputs": [],
   "source": [
    "def find_n_cores(network, n):\n",
    "    \n",
    "    colorlist = [\"red\", \"blue\", \"orange\", \"green\", \"yellow\", \"brown\"]\n",
    "    cores = dict()\n",
    "    \n",
    "    G = network.copy()\n",
    "    \n",
    "    for i in range(n):\n",
    "    \n",
    "        cores[i] = find_main_core(G)\n",
    "        \n",
    "        for node in cores[i].nodes:\n",
    "            G.remove_node(node)\n",
    "            \n",
    "        #Gcc = sorted(nx.connected_components(G), key=len, reverse=True)\n",
    "        #G0 = G.subgraph(Gcc[0])\n",
    "           \n",
    "    return cores"
   ]
  },
  {
   "cell_type": "code",
   "execution_count": 9,
   "metadata": {},
   "outputs": [],
   "source": [
    "def color_cores(cores, network):\n",
    "    \n",
    "    color_map = []\n",
    "\n",
    "    for node in network:\n",
    "        if node in cores[0]:\n",
    "            color_map.append(\"red\")\n",
    "        elif node in cores[1]:\n",
    "            color_map.append(\"blue\")\n",
    "        else: \n",
    "            color_map.append(\"gray\") \n",
    "    \n",
    "    return color_map"
   ]
  },
  {
   "cell_type": "code",
   "execution_count": 10,
   "metadata": {},
   "outputs": [],
   "source": [
    "if not PIPELINE_SWITCH:\n",
    "    \n",
    "    # Here self-retweets do not make sense\n",
    "    polarized_network.remove_edges_from(nx.selfloop_edges(polarized_network))\n",
    "    unpolarized_network.remove_edges_from(nx.selfloop_edges(unpolarized_network))\n",
    "\n",
    "    # First we expect to have two weakly connected cores in polarized network, we can look for more cores if needed\n",
    "    polarized_cores = find_n_cores(polarized_network, 2)\n",
    "    unpolarized_cores = find_n_cores(unpolarized_network, 2)\n",
    "    \n",
    "    # Quick facts on the overall networks\n",
    "    print(nx.info(polarized_network))\n",
    "    print(nx.density(polarized_network))\n",
    "    print(\"\\n\")\n",
    "    print(nx.info(unpolarized_network))\n",
    "    print(nx.density(unpolarized_network))\n",
    "    \n",
    "    # Deeper look into cores\n",
    "\n",
    "    # For polarized\n",
    "\n",
    "    print(\"CORE I \\n\")\n",
    "    nx.draw(polarized_cores[0])\n",
    "    print(\"Clustering coefficient: \", nx.average_clustering(polarized_cores[0]))\n",
    "    print(\"Transitivity: \", nx.transitivity(polarized_cores[0]))\n",
    "    print(\"Number of nodes: \", len(polarized_cores[0]))\n",
    "    print(\"Density: \",nx.density(polarized_cores[0]))\n",
    "    plt.show()\n",
    "    print(\"\\n\")\n",
    "    print(\"CORE II \\n\")\n",
    "    nx.draw(polarized_cores[1])\n",
    "    print(\"Clustering coefficient: \", nx.average_clustering(polarized_cores[1]))\n",
    "    print(\"Transitivity: \", nx.transitivity(polarized_cores[1]))\n",
    "    print(\"Number of nodes: \", len(polarized_cores[1]))\n",
    "    print(\"Density: \",nx.density(polarized_cores[1]))\n",
    "    \n",
    "    # For unpolarized\n",
    "\n",
    "    print(\"CORE I \\n\")\n",
    "    nx.draw(unpolarized_cores[0])\n",
    "    print(\"Clustering coefficient: \", nx.average_clustering(unpolarized_cores[0]))\n",
    "    print(\"Transitivity: \", nx.transitivity(unpolarized_cores[0]))\n",
    "    print(\"Number of nodes: \", len(unpolarized_cores[0]))\n",
    "    print(\"Density: \",nx.density(unpolarized_cores[0]))\n",
    "    plt.show()\n",
    "    print(\"\\n\")\n",
    "    print(\"CORE II \\n\")\n",
    "    nx.draw(unpolarized_cores[1])\n",
    "    print(\"Clustering coefficient: \", nx.average_clustering(unpolarized_cores[1]))\n",
    "    print(\"Transitivity: \", nx.transitivity(unpolarized_cores[1]))\n",
    "    print(\"Number of nodes: \", len(unpolarized_cores[1]))\n",
    "    print(\"Density: \",nx.density(unpolarized_cores[1]))\n",
    "    \n",
    "    polarized_cm = color_cores(polarized_cores, polarized_network)\n",
    "    unpolarized_cm = color_cores(unpolarized_cores, unpolarized_network)"
   ]
  },
  {
   "cell_type": "markdown",
   "metadata": {},
   "source": [
    "#### Visualize the cores inside the whole network"
   ]
  },
  {
   "cell_type": "code",
   "execution_count": null,
   "metadata": {},
   "outputs": [],
   "source": [
    "plt.figure(1,figsize=(12,12)) \n",
    "nx.draw_spring(polarized_network, node_size=30, width=0.5, alpha=0.1, node_color=polarized_cm)"
   ]
  },
  {
   "cell_type": "code",
   "execution_count": null,
   "metadata": {},
   "outputs": [],
   "source": [
    "plt.figure(2,figsize=(12,12)) \n",
    "nx.draw_spring(unpolarized_network, node_size=30, width=0.5, alpha=0.1, node_color=unpolarized_cm)"
   ]
  },
  {
   "cell_type": "markdown",
   "metadata": {},
   "source": [
    "#### Visualize only the cores inside the whole network"
   ]
  },
  {
   "cell_type": "code",
   "execution_count": null,
   "metadata": {},
   "outputs": [],
   "source": [
    "polarized_backbone_nodes = (nx.compose_all(polarized_cores.values())).nodes\n",
    "unpolarized_backbone_nodes = (nx.compose_all(unpolarized_cores.values())).nodes\n",
    "\n",
    "polarized_backbone = polarized_network.subgraph(polarized_backbone_nodes)\n",
    "unpolarized_backbone = unpolarized_network.subgraph(unpolarized_backbone_nodes)"
   ]
  },
  {
   "cell_type": "code",
   "execution_count": null,
   "metadata": {},
   "outputs": [],
   "source": [
    "polarized_backbone_cm = color_cores(polarized_cores, polarized_backbone)\n",
    "unpolarized_backbone_cm = color_cores(unpolarized_cores, unpolarized_backbone)"
   ]
  },
  {
   "cell_type": "code",
   "execution_count": null,
   "metadata": {},
   "outputs": [],
   "source": [
    "plt.figure(1,figsize=(12,12)) \n",
    "nx.draw_spring(polarized_backbone, node_size=30, width=0.5, alpha=0.1, node_color = polarized_backbone_cm)"
   ]
  },
  {
   "cell_type": "code",
   "execution_count": null,
   "metadata": {},
   "outputs": [],
   "source": [
    "plt.figure(1,figsize=(12,12)) \n",
    "nx.draw_spring(unpolarized_backbone, node_size=30, width=0.5, alpha=0.1, node_color = unpolarized_backbone_cm)"
   ]
  },
  {
   "cell_type": "code",
   "execution_count": null,
   "metadata": {},
   "outputs": [],
   "source": [
    "print(\"POL-BACKBONE/NETWORK RATIO: \", len(polarized_backbone)/len(polarized_network))\n",
    "print(\"unPOL-BACKBONE/NETWORK RATIO: \", len(unpolarized_backbone)/len(unpolarized_network))"
   ]
  },
  {
   "cell_type": "code",
   "execution_count": null,
   "metadata": {},
   "outputs": [],
   "source": [
    "polarized_ac = nx.algebraic_connectivity(polarized_backbone)\n",
    "unpolarized_ac = nx.algebraic_connectivity(unpolarized_backbone)\n",
    "\n",
    "polarized_nac = nx.algebraic_connectivity(polarized_backbone, normalized=True)\n",
    "unpolarized_nac = nx.algebraic_connectivity(unpolarized_backbone, normalized=True)"
   ]
  },
  {
   "cell_type": "markdown",
   "metadata": {},
   "source": [
    "## MEASURING THE CORE POLARIZATION "
   ]
  },
  {
   "cell_type": "markdown",
   "metadata": {},
   "source": [
    "1. Random Walk based score"
   ]
  },
  {
   "cell_type": "code",
   "execution_count": 11,
   "metadata": {},
   "outputs": [],
   "source": [
    "def perform_randomwalk(G, starting_node, li, ri):\n",
    "    \n",
    "    found = 0\n",
    "    end_side = 0\n",
    "    which_random_starting_node = starting_node\n",
    "   \n",
    "    while (found != 1):\n",
    "        neighbors = list(G.neighbors(which_random_starting_node))\n",
    "        next_node = random.choice(neighbors)\n",
    "        if (next_node in li):\n",
    "            end_side = \"A\"\n",
    "            found = 1  \n",
    "        elif (next_node in ri):\n",
    "            end_side = \"B\"\n",
    "            found = 1\n",
    "        else:\n",
    "            which_random_starting_node = next_node       \n",
    "    return end_side\n",
    "\n",
    "def random_walk(backbone, cores, n_iter):\n",
    "    \n",
    "    centrality_core1 = nx.closeness_centrality(cores[0])\n",
    "    centrality_core2 = nx.closeness_centrality(cores[1])\n",
    "    \n",
    "    A = max(centrality_core1, key=centrality_core1.get)\n",
    "    B = max(centrality_core2, key=centrality_core2.get)\n",
    "    \n",
    "    AA = 0\n",
    "    AB = 0\n",
    "    BB = 0\n",
    "    BA = 0\n",
    "    \n",
    "    starting_nodes = random.choices(list(cores[0]) + list(cores[1]), k=n_iter)\n",
    "    \n",
    "    for node in starting_nodes:\n",
    "        \n",
    "        res = perform_randomwalk(backbone, node, [A], [B])\n",
    "        \n",
    "        if node in cores[0] and res == \"A\":\n",
    "            AA += 1\n",
    "        \n",
    "        elif node in cores[0] and res == \"B\":\n",
    "            AB += 1\n",
    "            \n",
    "        elif node in cores[1] and res == \"B\":\n",
    "            BB += 1\n",
    "            \n",
    "        elif node in cores[1] and res == \"A\":\n",
    "            BA += 1\n",
    "            \n",
    "        else:\n",
    "            print(\"Not possible!\")\n",
    "            \n",
    "            \n",
    "    pAA = AA/(AA+AB)\n",
    "    pAB = 1-pAA\n",
    "    \n",
    "    pBB = BB/(BB+BA)\n",
    "    pBA = 1-pBB\n",
    "        \n",
    "    \n",
    "    return(pAA*pBB - pAB*pBA)"
   ]
  },
  {
   "cell_type": "markdown",
   "metadata": {},
   "source": [
    "2. Information Unfairness inspired measure"
   ]
  },
  {
   "cell_type": "code",
   "execution_count": 12,
   "metadata": {},
   "outputs": [],
   "source": [
    "def accessibility_score(backbone, cores, p=0.5):\n",
    "    \n",
    "    nodelist = list(cores[0]) + list(cores[1])\n",
    "    M = nx.to_numpy_matrix(backbone, nodelist=nodelist)\n",
    "    \n",
    "    A = p*M + p**2 * M**2 + p**3*M**3\n",
    "    n_core1 = len(cores[0])\n",
    "    \n",
    "    core1_intra = A[:n_core1, :n_core1].flatten().tolist()[0]\n",
    "    core2_intra = A[n_core1:, n_core1:].flatten().tolist()[0]\n",
    "    core_inter = A[:n_core1, n_core1:].flatten().tolist()[0]\n",
    "    \n",
    "    EMD = wasserstein_distance(core1_intra + core2_intra, core_inter)\n",
    "    \n",
    "    return(np.var(A), EMD)"
   ]
  },
  {
   "cell_type": "markdown",
   "metadata": {},
   "source": [
    "A measures the expected\n",
    "number of times that node v will hear about a cascade\n",
    "originating at node u, using walks of length up to k"
   ]
  },
  {
   "cell_type": "markdown",
   "metadata": {},
   "source": [
    "3. Echo Chamber effect"
   ]
  },
  {
   "cell_type": "markdown",
   "metadata": {},
   "source": [
    "4. Assortativity "
   ]
  },
  {
   "cell_type": "code",
   "execution_count": 13,
   "metadata": {},
   "outputs": [],
   "source": [
    "def assortativity(backbone):\n",
    "    r=nx.degree_assortativity_coefficient(backbone)\n",
    "    return r"
   ]
  },
  {
   "cell_type": "markdown",
   "metadata": {},
   "source": [
    "5. Spectral approach (Algebraic connectivity)"
   ]
  },
  {
   "cell_type": "code",
   "execution_count": 14,
   "metadata": {},
   "outputs": [],
   "source": [
    "def algebraic_connectivity(backbone):\n",
    "    \n",
    "    ac = nx.algebraic_connectivity(backbone)\n",
    "    normalized_ac = nx.algebraic_connectivity(backbone, normalized=True)\n",
    "    \n",
    "    return (ac, normalized_ac)"
   ]
  },
  {
   "cell_type": "markdown",
   "metadata": {},
   "source": [
    "### ANALYTICAL PIPELINE"
   ]
  },
  {
   "cell_type": "code",
   "execution_count": 15,
   "metadata": {},
   "outputs": [],
   "source": [
    "vague=[\"jotainrajaa\", \"piraatit\", \"samasuunta\"]"
   ]
  },
  {
   "cell_type": "code",
   "execution_count": 23,
   "metadata": {},
   "outputs": [],
   "source": [
    "def compute_core_polarization(net, vis=False):\n",
    "    \n",
    "    G = net.copy()\n",
    "    \n",
    "    # Remove self-retweets\n",
    "    G.remove_edges_from(nx.selfloop_edges(G))\n",
    "    \n",
    "    # Find two cores\n",
    "    cores = find_n_cores(G, 2)\n",
    "    \n",
    "    # Take core subgraph\n",
    "    backbone_nodes = (nx.compose_all(cores.values())).nodes\n",
    "    backbone = G.subgraph(backbone_nodes)\n",
    "    \n",
    "    # Compute both AC and NAC\n",
    "    #AC = nx.algebraic_connectivity(backbone)\n",
    "    #NAC = nx.algebraic_connectivity(backbone, normalized=True)\n",
    "    \n",
    "    #M = nx.to_numpy_matrix(net)\n",
    "    #A = 0.5*M + 0.5**2 * M**2 + 0.5**3*M**3\n",
    "    \n",
    "    # Save values\n",
    "    score_dict = dict()\n",
    "    \n",
    "    score_dict[\"RW\"] = random_walk(backbone, cores, 1000)\n",
    "    #print(\"RW completed.\")\n",
    "    if t not in vague:\n",
    "        score_dict[\"AC\"] = algebraic_connectivity(backbone)\n",
    "        #print(\"AC completed.\")\n",
    "    else:\n",
    "        score_dict[\"AC\"] = (0,0)\n",
    "    score_dict[\"FLOW\"] = accessibility_score(backbone, cores)\n",
    "    #print(\"FLOW completed.\")\n",
    "    score_dict[\"ASSOR\"] = assortativity(backbone)\n",
    "    #print(\"ASSOR completed.\")\n",
    "    \n",
    "    if vis:\n",
    "        # Visualize only the cores\n",
    "        backbone_cm = color_cores(cores, backbone)\n",
    "        plt.figure(figsize=(10,10)) \n",
    "        nx.draw_spring(backbone, node_size=30, width=0.5, alpha=0.1, node_color = backbone_cm)\n",
    "        plt.text(0.5, 0.5,\"AC: \" + str(AC) + \"\\nNAC: \" +str(NAC),\n",
    "         horizontalalignment='center',\n",
    "         verticalalignment='center')\n",
    "\n",
    "    #return (AC, NAC)\n",
    "    return score_dict\n",
    "    "
   ]
  },
  {
   "cell_type": "code",
   "execution_count": 24,
   "metadata": {},
   "outputs": [],
   "source": [
    "all_topics = list(topic_dict.keys())\n",
    "\n",
    "polarized_topics = [\"jotainrajaa\", \"vihreät\", \"perussuomalaiset\", \"vasemmisto\", \"vihapuhe\", \"ilmastonmuutos\"]\n",
    "unpolarized_topics = [\"mielenterveys\", \"liikenne\", \"kunnat\", \"tekoäly\"]\n",
    "\n",
    "core_polarization = dict()"
   ]
  },
  {
   "cell_type": "code",
   "execution_count": null,
   "metadata": {},
   "outputs": [],
   "source": [
    "for t in all_topics:\n",
    "    \n",
    "    if t == \"vaalikone\":\n",
    "        continue\n",
    "    #Load the network\n",
    "    network = GL[topic_dict[t]][0][0][0]\n",
    "    \n",
    "    #Compute all scores for core polarization\n",
    "    core_polarization[t] = compute_core_polarization(network)\n",
    "    \n",
    "    print(\"Following topic completed: \", t)"
   ]
  },
  {
   "cell_type": "code",
   "execution_count": null,
   "metadata": {},
   "outputs": [],
   "source": [
    "# Save to file\n",
    "import json\n",
    "with open('results.json', 'w') as fp:\n",
    "    json.dump(core_polarization, fp)"
   ]
  },
  {
   "cell_type": "markdown",
   "metadata": {},
   "source": [
    "### VISUALIZATION PIPELINE"
   ]
  },
  {
   "cell_type": "code",
   "execution_count": 1,
   "metadata": {},
   "outputs": [
    {
     "ename": "NameError",
     "evalue": "name 'core_polarization' is not defined",
     "output_type": "error",
     "traceback": [
      "\u001b[0;31m---------------------------------------------------------------------------\u001b[0m",
      "\u001b[0;31mNameError\u001b[0m                                 Traceback (most recent call last)",
      "\u001b[0;32m<ipython-input-1-da558d23209c>\u001b[0m in \u001b[0;36m<module>\u001b[0;34m\u001b[0m\n\u001b[0;32m----> 1\u001b[0;31m \u001b[0mtopics\u001b[0m \u001b[0;34m=\u001b[0m \u001b[0mlist\u001b[0m\u001b[0;34m(\u001b[0m\u001b[0mcore_polarization\u001b[0m\u001b[0;34m.\u001b[0m\u001b[0mkeys\u001b[0m\u001b[0;34m(\u001b[0m\u001b[0;34m)\u001b[0m\u001b[0;34m)\u001b[0m\u001b[0;34m\u001b[0m\u001b[0;34m\u001b[0m\u001b[0m\n\u001b[0m\u001b[1;32m      2\u001b[0m \u001b[0;34m\u001b[0m\u001b[0m\n\u001b[1;32m      3\u001b[0m \u001b[0mpolarized_topics\u001b[0m \u001b[0;34m=\u001b[0m \u001b[0;34m[\u001b[0m\u001b[0;34m\"kokoomus\"\u001b[0m\u001b[0;34m,\u001b[0m \u001b[0;34m\"vihreät\"\u001b[0m\u001b[0;34m,\u001b[0m \u001b[0;34m\"perussuomalaiset\"\u001b[0m\u001b[0;34m,\u001b[0m \u001b[0;34m\"vasemmisto\"\u001b[0m\u001b[0;34m,\u001b[0m \u001b[0;34m\"vihapuhe\"\u001b[0m\u001b[0;34m,\u001b[0m \u001b[0;34m\"ilmastonmuutos\"\u001b[0m\u001b[0;34m,\u001b[0m \u001b[0;34m\"maahanmuutto\"\u001b[0m\u001b[0;34m]\u001b[0m\u001b[0;34m\u001b[0m\u001b[0;34m\u001b[0m\u001b[0m\n\u001b[1;32m      4\u001b[0m \u001b[0munpolarized_topics\u001b[0m \u001b[0;34m=\u001b[0m \u001b[0;34m[\u001b[0m\u001b[0;34m\"mielenterveys\"\u001b[0m\u001b[0;34m,\u001b[0m \u001b[0;34m\"liikenne\"\u001b[0m\u001b[0;34m,\u001b[0m \u001b[0;34m\"kunnat\"\u001b[0m\u001b[0;34m,\u001b[0m \u001b[0;34m\"tekoäly\"\u001b[0m\u001b[0;34m,\u001b[0m \u001b[0;34m\"nuoret\"\u001b[0m\u001b[0;34m,\u001b[0m \u001b[0;34m\"urheilu\"\u001b[0m\u001b[0;34m,\u001b[0m \u001b[0;34m\"yrittäjät\"\u001b[0m\u001b[0;34m,\u001b[0m \u001b[0;34m\"rekry\"\u001b[0m\u001b[0;34m]\u001b[0m\u001b[0;34m\u001b[0m\u001b[0;34m\u001b[0m\u001b[0m\n",
      "\u001b[0;31mNameError\u001b[0m: name 'core_polarization' is not defined"
     ]
    }
   ],
   "source": [
    "topics = list(core_polarization.keys())\n",
    "\n",
    "polarized_topics = [\"kokoomus\", \"vihreät\", \"perussuomalaiset\", \"vasemmisto\", \"vihapuhe\", \"ilmastonmuutos\", \"maahanmuutto\"]\n",
    "unpolarized_topics = [\"mielenterveys\", \"liikenne\", \"kunnat\", \"tekoäly\", \"nuoret\", \"urheilu\", \"yrittäjät\", \"rekry\"]"
   ]
  },
  {
   "cell_type": "code",
   "execution_count": null,
   "metadata": {},
   "outputs": [],
   "source": [
    "topics"
   ]
  },
  {
   "cell_type": "code",
   "execution_count": null,
   "metadata": {},
   "outputs": [],
   "source": [
    "with PdfPages('unpolarized_pdf.pdf') as pdf:\n",
    "    \n",
    "    for t in unpolarized_topics:\n",
    "\n",
    "        plt.figure(figsize=(12,12)) \n",
    "        plt.title(t + \", RW: \" + str(round(core_polarization[t][\"RW\"],3)) + \", ACC: \" + str(round(core_polarization[t][\"AC\"][1],3)) + \", FLOW: \" + str(round(core_polarization[t][\"FLOW\"][1],3)))\n",
    "        \n",
    "        #Load the network\n",
    "        network = GL[topic_dict[t]][0][0][0]\n",
    "        G = network.copy()\n",
    "    \n",
    "        # Remove self-retweets\n",
    "        G.remove_edges_from(nx.selfloop_edges(G))\n",
    "    \n",
    "        # Find two cores\n",
    "        cores = find_n_cores(G, 2)\n",
    "    \n",
    "        # Take core subgraph\n",
    "        cm = color_cores(cores, G)\n",
    "        \n",
    "        nx.draw_spring(G, node_size=30, width=0.5, alpha=0.1, node_color=cm)\n",
    "        pdf.savefig()\n",
    "        #plt.close()\n",
    "\n",
    "        print(\"Topic visualized: \", t)"
   ]
  },
  {
   "cell_type": "markdown",
   "metadata": {},
   "source": [
    "### RESULTS"
   ]
  },
  {
   "cell_type": "markdown",
   "metadata": {},
   "source": [
    "1. Identify the cores, evaluate their quality if necessary.\n",
    "\n",
    "2. Measure the core polarization score."
   ]
  },
  {
   "cell_type": "code",
   "execution_count": null,
   "metadata": {},
   "outputs": [],
   "source": [
    "core_polarization"
   ]
  },
  {
   "cell_type": "code",
   "execution_count": 93,
   "metadata": {},
   "outputs": [],
   "source": [
    "all_topics = topics = list(core_polarization.keys())\n",
    "\n",
    "polarized_topics = [\"kokoomus\", \n",
    "                    \"vihreät\", \n",
    "                    \"perussuomalaiset\", \n",
    "                    \"vasemmisto\", \n",
    "                    \"vihapuhe\", \n",
    "                    \"ilmastonmuutos\", \n",
    "                    \"maahanmuutto\",\n",
    "                    \"sote\",\n",
    "                    \"ilmastovaalit\"]\n",
    "\n",
    "unpolarized_topics = [\"mielenterveys\", \n",
    "                      \"liikenne\", \n",
    "                      \"kunnat\", \n",
    "                      \"tekoäly\", \n",
    "                      \"nuoret\", \n",
    "                      \"urheilu\", \n",
    "                      \"yrittäjät\",\n",
    "                      \"yrittäjyys\",\n",
    "                      \"rekry\",\n",
    "                      \"osaaminen\",\n",
    "                      \"johtaminen\"]"
   ]
  },
  {
   "cell_type": "code",
   "execution_count": 94,
   "metadata": {},
   "outputs": [],
   "source": [
    "polarized_flow = []\n",
    "unpolarized_flow = []\n",
    "\n",
    "polarized_ac = []\n",
    "unpolarized_ac = []\n",
    "\n",
    "polarized_rw = []\n",
    "unpolarized_rw = []\n",
    "\n",
    "for t in polarized_topics:\n",
    "    polarized_flow += [core_polarization[t][\"FLOW\"][1]]\n",
    "    polarized_ac += [core_polarization[t][\"AC\"][1]]\n",
    "    polarized_rw += [core_polarization[t][\"RW\"]]\n",
    "    \n",
    "for t in unpolarized_topics:\n",
    "    unpolarized_flow += [core_polarization[t][\"FLOW\"][1]]\n",
    "    unpolarized_ac += [core_polarization[t][\"AC\"][1]]\n",
    "    unpolarized_rw += [core_polarization[t][\"RW\"]]"
   ]
  },
  {
   "cell_type": "code",
   "execution_count": null,
   "metadata": {},
   "outputs": [],
   "source": [
    "core_polarization"
   ]
  },
  {
   "cell_type": "code",
   "execution_count": 95,
   "metadata": {},
   "outputs": [
    {
     "data": {
      "image/png": "[encoded data removed]",
      "text/plain": [
       "<Figure size 864x864 with 3 Axes>"
      ]
     },
     "metadata": {
      "needs_background": "light"
     },
     "output_type": "display_data"
    }
   ],
   "source": [
    "plt.figure(figsize=(12,12))\n",
    "\n",
    "plt.subplot(3,1,1)\n",
    "plt.title(\"Random Walk\")\n",
    "plt.hist(polarized_rw, label=\"polarized\", color=\"darkred\", alpha=0.8, bins=100)\n",
    "plt.hist(unpolarized_rw, label=\"unpolarized\", alpha=0.8, bins=100)\n",
    "plt.legend()\n",
    "\n",
    "plt.subplot(3,1,2)\n",
    "plt.title(\"Algebraic Connectivity\")\n",
    "plt.hist(polarized_ac, label=\"polarized\", color=\"darkred\", alpha=0.8, bins=100)\n",
    "plt.hist(unpolarized_ac, label=\"unpolarized\", alpha=0.8, bins=100)\n",
    "\n",
    "plt.subplot(3,1,3)\n",
    "plt.title(\"Flow Score\")\n",
    "plt.hist(polarized_flow, label=\"polarized\", color=\"darkred\", alpha=0.8, bins=100)\n",
    "_ = plt.hist(unpolarized_flow, label=\"unpolarized\", alpha=0.8, bins=100)"
   ]
  },
  {
   "cell_type": "code",
   "execution_count": null,
   "metadata": {},
   "outputs": [],
   "source": [
    "# Let us do this for all topics\n",
    "\n",
    "all_flow, all_ac, all_rw = [], [], []\n",
    "\n",
    "for t in all_topics:\n",
    "    polarized_flow += [core_polarization[t][\"FLOW\"][1]]\n",
    "    polarized_ac += [core_polarization[t][\"AC\"][1]]\n",
    "    polarized_rw += [core_polarization[t][\"RW\"]]\n",
    "    "
   ]
  }
 ],
 "metadata": {
  "kernelspec": {
   "display_name": "Python 3/anaconda",
   "language": "python",
   "name": "python3"
  },
  "language_info": {
   "codemirror_mode": {
    "name": "ipython",
    "version": 3
   },
   "file_extension": ".py",
   "mimetype": "text/x-python",
   "name": "python",
   "nbconvert_exporter": "python",
   "pygments_lexer": "ipython3",
   "version": "3.7.7"
  }
 },
 "nbformat": 4,
 "nbformat_minor": 4
}
