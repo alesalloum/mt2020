{
 "cells": [
  {
   "cell_type": "markdown",
   "metadata": {},
   "source": [
    "#### TO NETWORKX OBJECTS"
   ]
  },
  {
   "cell_type": "code",
   "execution_count": 2,
   "metadata": {},
   "outputs": [],
   "source": [
    "import networkx as nx\n",
    "import pickle\n",
    "import os"
   ]
  },
  {
   "cell_type": "code",
   "execution_count": null,
   "metadata": {},
   "outputs": [],
   "source": [
    "import networkx as nx\n",
    "import pickle\n",
    "import os\n",
    "\n",
    "data_dir = \"data/retweet_networks/\"\n",
    "\n",
    "garimella_networks = dict()\n",
    "\n",
    "for nettext in os.listdir(data_dir):\n",
    "    if nettext == \".ipynb_checkpoints\":\n",
    "        continue\n",
    "    network_name = nettext.split(\"_\")[2]\n",
    "    network = nx.read_weighted_edgelist(data_dir + nettext, delimiter=',')\n",
    "    garimella_networks[network_name] = network\n",
    "\n",
    "#with open('garimellanets.pickle', 'wb') as handle:\n",
    "#    pickle.dump(garimella_networks, handle)"
   ]
  },
  {
   "cell_type": "code",
   "execution_count": null,
   "metadata": {},
   "outputs": [],
   "source": [
    "nx.info(garimella_networks[\"mothersday\"])"
   ]
  },
  {
   "cell_type": "code",
   "execution_count": null,
   "metadata": {},
   "outputs": [],
   "source": [
    "nx.draw(garimella_networks[\"netanyahu\"], node_size = 5)"
   ]
  },
  {
   "cell_type": "markdown",
   "metadata": {},
   "source": [
    "#### TO GRAPHTOOL OBJECTS"
   ]
  },
  {
   "cell_type": "code",
   "execution_count": 16,
   "metadata": {},
   "outputs": [],
   "source": [
    "data_dir1 = \"data/retweet_networks/\"\n",
    "data_dir2 = \"data/graphlistnew.pickle\"\n",
    "output_dir = \"data/networks/\"\n",
    "\n",
    "#GL = pickle.load(open(data_dir2, \"rb\" ))"
   ]
  },
  {
   "cell_type": "code",
   "execution_count": 15,
   "metadata": {},
   "outputs": [],
   "source": [
    "for i in range(len(GL)):\n",
    "    netname = GL[i][1].split(\"_\")[0]\n",
    "    network = GL[i][0][0][0]\n",
    "    \n",
    "    nx.write_graphml(network, output_dir + netname + \".graphml\")  "
   ]
  },
  {
   "cell_type": "code",
   "execution_count": 3,
   "metadata": {},
   "outputs": [],
   "source": [
    "GL = pickle.load(open(\"data/garimellanets.pickle\", \"rb\" ))"
   ]
  },
  {
   "cell_type": "code",
   "execution_count": 17,
   "metadata": {},
   "outputs": [],
   "source": [
    "for key in GL:\n",
    "    netname = key\n",
    "    network = GL[key]\n",
    "    nx.write_graphml(network, output_dir + netname + \".graphml\")  "
   ]
  },
  {
   "cell_type": "code",
   "execution_count": null,
   "metadata": {},
   "outputs": [],
   "source": []
  }
 ],
 "metadata": {
  "kernelspec": {
   "display_name": "Python 3/anaconda",
   "language": "python",
   "name": "python3"
  },
  "language_info": {
   "codemirror_mode": {
    "name": "ipython",
    "version": 3
   },
   "file_extension": ".py",
   "mimetype": "text/x-python",
   "name": "python",
   "nbconvert_exporter": "python",
   "pygments_lexer": "ipython3",
   "version": "3.7.7"
  }
 },
 "nbformat": 4,
 "nbformat_minor": 4
}
